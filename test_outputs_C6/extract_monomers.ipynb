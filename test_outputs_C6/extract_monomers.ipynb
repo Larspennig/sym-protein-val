{
 "cells": [
  {
   "cell_type": "code",
   "execution_count": 27,
   "id": "afbebeb0",
   "metadata": {},
   "outputs": [],
   "source": [
    "import os\n",
    "from pathlib import Path\n",
    "from Bio.PDB import PDBParser, PDBIO, Select"
   ]
  },
  {
   "cell_type": "code",
   "execution_count": 21,
   "metadata": {},
   "outputs": [],
   "source": [
    "homomer_folder = Path(\"homomer_pdbs\")\n",
    "monomer_folder = Path(\"monomers_pdbs\")\n",
    "monomer_folder.mkdir(exist_ok=True)"
   ]
  },
  {
   "cell_type": "code",
   "execution_count": 24,
   "id": "55a58d23",
   "metadata": {},
   "outputs": [],
   "source": [
    "files = list(homomer_folder.iterdir())"
   ]
  },
  {
   "cell_type": "code",
   "execution_count": 34,
   "id": "16342a24",
   "metadata": {},
   "outputs": [],
   "source": [
    "class ChainSelect(Select):\n",
    "    def __init__(self, target_chain):\n",
    "        self.target_chain = target_chain\n",
    "\n",
    "    def accept_chain(self, chain):\n",
    "        # Save only the target chain\n",
    "        return chain.id == self.target_chain\n",
    "\n",
    "\n",
    "# Iterate over all PDB files in the folder\n",
    "for file in files:\n",
    "    if file.suffix == \".pdb\":  # Ensure only .pdb files are processed\n",
    "        parser = PDBParser(QUIET=True)\n",
    "        structure = parser.get_structure(file.stem, str(file))\n",
    "\n",
    "        # Get the first chain in the structure\n",
    "        first_chain = next(structure[0].get_chains(), None)\n",
    "        if first_chain is None:\n",
    "            print(f\"No chains found in {file.name}, skipping...\")\n",
    "            continue\n",
    "\n",
    "        # Save the first chain to a new PDB file\n",
    "        io = PDBIO()\n",
    "        io.set_structure(structure)\n",
    "        io.save(str(monomer_folder / f\"{file.stem}.pdb\"), ChainSelect(first_chain.id))\n"
   ]
  }
 ],
 "metadata": {
  "kernelspec": {
   "display_name": "boltz_folding",
   "language": "python",
   "name": "python3"
  },
  "language_info": {
   "codemirror_mode": {
    "name": "ipython",
    "version": 3
   },
   "file_extension": ".py",
   "mimetype": "text/x-python",
   "name": "python",
   "nbconvert_exporter": "python",
   "pygments_lexer": "ipython3",
   "version": "3.11.8"
  }
 },
 "nbformat": 4,
 "nbformat_minor": 5
}
